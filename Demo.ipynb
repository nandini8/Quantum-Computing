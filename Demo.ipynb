{
 "cells": [
  {
   "cell_type": "markdown",
   "metadata": {},
   "source": [
    "## Importing qiskit and connecting to IBMQ"
   ]
  },
  {
   "cell_type": "code",
   "execution_count": 164,
   "metadata": {},
   "outputs": [],
   "source": [
    "# Load the token\n",
    "import warnings\n",
    "warnings.filterwarnings('ignore')"
   ]
  },
  {
   "cell_type": "code",
   "execution_count": 165,
   "metadata": {},
   "outputs": [],
   "source": [
    "import qiskit\n",
    "from qiskit import IBMQ\n",
    "IBMQ.save_account('79e0ee1cc29cb0dd80ed7e2a27aa20a39588496f3ecb74e417c903535edf6bc824238753df58ba9b186c349a7605e16321948caf61c2155d34fb83803960fcc8')"
   ]
  },
  {
   "cell_type": "code",
   "execution_count": 170,
   "metadata": {},
   "outputs": [
    {
     "name": "stdout",
     "output_type": "stream",
     "text": [
      "ClassicalRegister(2, 'c5')\n"
     ]
    }
   ],
   "source": [
    "from qiskit import ClassicalRegister\n",
    "# Create a Classical Register with 2 bits.\n",
    "c = ClassicalRegister(2)\n",
    "print(c)"
   ]
  },
  {
   "cell_type": "code",
   "execution_count": 169,
   "metadata": {},
   "outputs": [
    {
     "name": "stdout",
     "output_type": "stream",
     "text": [
      "QuantumRegister(2, 'q4')\n"
     ]
    }
   ],
   "source": [
    "from qiskit import QuantumRegister\n",
    "# Create a Quantum Register with 2 qubits.\n",
    "q = QuantumRegister(2)\n",
    "print(q)"
   ]
  },
  {
   "cell_type": "markdown",
   "metadata": {},
   "source": [
    "## Quantum Circuits in Qiskit"
   ]
  },
  {
   "cell_type": "markdown",
   "metadata": {},
   "source": [
    "### Hadamard Gate (superposition)"
   ]
  },
  {
   "cell_type": "markdown",
   "metadata": {},
   "source": [
    "**Input : ** Single Qubit\n",
    "\n",
    "**Output : **\n",
    "\n",
    "$${|0\\rangle} \\ to  \\  \\frac {|0\\rangle +|1\\rangle }{\\sqrt {2}} \\ \\ \\ and \\ \\ \\ {|1\\rangle} \\ to  \\  \\frac {|0\\rangle -|1\\rangle }{\\sqrt {2}}$$"
   ]
  },
  {
   "cell_type": "markdown",
   "metadata": {},
   "source": [
    "** Hadamard Matrix **\n",
    "\n",
    "$$H = \\frac{1}{\\sqrt2} \\begin{bmatrix} 1 & 1 \\\\ 1 & -1 \\end{bmatrix}$$"
   ]
  },
  {
   "cell_type": "markdown",
   "metadata": {},
   "source": [
    "### Pauli-X Gate (NOT Gate)"
   ]
  },
  {
   "cell_type": "markdown",
   "metadata": {},
   "source": [
    "**Input : ** Single Qubit\n",
    "\n",
    "**Output : **\n",
    "\n",
    "$${|0\\rangle} \\ to  \\  {|1\\rangle} \\ \\ \\ and \\ \\ \\ {|1\\rangle} \\ to \\  {|0\\rangle}$$"
   ]
  },
  {
   "cell_type": "markdown",
   "metadata": {},
   "source": [
    "** X Matrix **\n",
    "\n",
    "$$X = \\begin{bmatrix} 0 & 1 \\\\ 1 & 0 \\end{bmatrix}$$"
   ]
  },
  {
   "cell_type": "markdown",
   "metadata": {},
   "source": [
    "### Pauli-Y Gate \n",
    "##### (Rotation around Y axis of Bloch Sphere)"
   ]
  },
  {
   "cell_type": "markdown",
   "metadata": {},
   "source": [
    "**Input : ** Single Qubit\n",
    "\n",
    "**Output : **\n",
    "\n",
    "$${|0\\rangle} \\ to  \\  i {|1\\rangle} \\ \\ \\ and \\ \\ \\ {|1\\rangle} \\ to \\  -i{|0\\rangle}$$"
   ]
  },
  {
   "cell_type": "markdown",
   "metadata": {},
   "source": [
    "** Y Matrix **\n",
    "\n",
    "$$Y = \\begin{bmatrix} 0 & -i \\\\ i & 0 \\end{bmatrix}$$"
   ]
  },
  {
   "cell_type": "markdown",
   "metadata": {},
   "source": [
    "## Pauli-Z Gate\n",
    "##### ( rotation around the Z-axis of the Bloch sphere)"
   ]
  },
  {
   "cell_type": "markdown",
   "metadata": {},
   "source": [
    "**Input : ** Single Qubit\n",
    "\n",
    "**Output : **\n",
    "\n",
    "$${|0\\rangle} \\ to  \\  {|0\\rangle} \\ \\ \\ and \\ \\ \\ {|1\\rangle} \\ to \\  -{|1\\rangle}$$"
   ]
  },
  {
   "cell_type": "markdown",
   "metadata": {},
   "source": [
    "** Z Matrix **\n",
    "\n",
    "$$Z = \\begin{bmatrix} 1 & 0 \\\\ 0 & -1 \\end{bmatrix}$$"
   ]
  },
  {
   "cell_type": "markdown",
   "metadata": {},
   "source": [
    "The Pauli matrices are involutory\n",
    "The square of a Pauli matrix is the identity matrix.\n",
    "\n",
    "$${\\displaystyle I^{2}=X^{2}=Y^{2}=Z^{2}=-iXYZ=I}$$"
   ]
  },
  {
   "cell_type": "markdown",
   "metadata": {},
   "source": [
    "## C-NOT Gate"
   ]
  },
  {
   "cell_type": "markdown",
   "metadata": {},
   "source": [
    "**Input : ** 2 or more qubits\n",
    "\n",
    "Let the input be $${|q_1\\rangle} \\  {|q_2\\rangle}$$\n",
    "\n",
    "**Output : **\n",
    "\n",
    "   **If**\n",
    "$${|q_1\\rangle} = 1$$ \n",
    "   **then**\n",
    "$${|q_2\\rangle} = {|q_2\\rangle}\\begin{bmatrix} 0 & 1 \\\\ 1 & 0 \\end{bmatrix}$$\n",
    "   **otherwise**\n",
    "$${|q_2\\rangle} = {|q_2\\rangle}$$"
   ]
  },
  {
   "cell_type": "markdown",
   "metadata": {},
   "source": [
    "** CNOT Matrix **\n",
    "\n",
    "$${\\displaystyle {\\mbox{CNOT}}=cX={\\begin{bmatrix}1&0&0&0\\\\0&1&0&0\\\\0&0&0&1\\\\0&0&1&0\\end{bmatrix}}}$$"
   ]
  },
  {
   "cell_type": "code",
   "execution_count": 150,
   "metadata": {},
   "outputs": [],
   "source": [
    "from qiskit import QuantumCircuit\n",
    "# Create a Quantum Circuit\n",
    "qc = QuantumCircuit(q, c)\n",
    "# perform a measurement of our qubits into our bits\n",
    "qc.measure(q, c); # ; hides the output"
   ]
  },
  {
   "cell_type": "code",
   "execution_count": 151,
   "metadata": {
    "scrolled": false
   },
   "outputs": [
    {
     "data": {
      "text/html": [
       "<pre style=\"word-wrap: normal;white-space: pre;background: #fff0;line-height: 1.1;font-family: &quot;Courier New&quot;,Courier,monospace\">         ┌─┐   \n",
       "q2_0: |0>┤M├───\n",
       "         └╥┘┌─┐\n",
       "q2_1: |0>─╫─┤M├\n",
       "          ║ └╥┘\n",
       " c2_0: 0 ═╩══╬═\n",
       "             ║ \n",
       " c2_1: 0 ════╩═\n",
       "               </pre>"
      ],
      "text/plain": [
       "<qiskit.visualization.text.TextDrawing at 0x7faf4fbf8898>"
      ]
     },
     "execution_count": 151,
     "metadata": {},
     "output_type": "execute_result"
    }
   ],
   "source": [
    "from qiskit.tools.visualization import circuit_drawer as draw\n",
    "draw(qc) # visualize quantum circuit"
   ]
  },
  {
   "cell_type": "code",
   "execution_count": 159,
   "metadata": {},
   "outputs": [
    {
     "data": {
      "text/html": [
       "<pre style=\"word-wrap: normal;white-space: pre;background: #fff0;line-height: 1.1;font-family: &quot;Courier New&quot;,Courier,monospace\">        ┌───┐┌───┐     ┌─┐   \n",
       "q_0: |0>┤ Y ├┤ X ├──■──┤M├───\n",
       "        ├───┤└───┘┌─┴─┐└╥┘┌─┐\n",
       "q_1: |0>┤ H ├─────┤ X ├─╫─┤M├\n",
       "        └───┘     └───┘ ║ └╥┘\n",
       " c_0: 0 ════════════════╩══╬═\n",
       "                           ║ \n",
       " c_1: 0 ═══════════════════╩═\n",
       "                             </pre>"
      ],
      "text/plain": [
       "<qiskit.visualization.text.TextDrawing at 0x7faf4fc137b8>"
      ]
     },
     "execution_count": 159,
     "metadata": {},
     "output_type": "execute_result"
    }
   ],
   "source": [
    "from qiskit import QuantumCircuit\n",
    "\n",
    "circuit = QuantumCircuit(2, 2)\n",
    "draw(circuit)\n",
    "circuit.h(1)\n",
    "circuit.y(0)\n",
    "circuit.x(0)\n",
    "circuit.cx(0, 1)\n",
    "circuit.measure([0,1], [0,1])\n",
    "circuit.draw()\n"
   ]
  },
  {
   "cell_type": "code",
   "execution_count": 160,
   "metadata": {},
   "outputs": [
    {
     "name": "stdout",
     "output_type": "stream",
     "text": [
      "\n",
      "Total count for 00 and 11 are: {'10': 486, '00': 514}\n"
     ]
    }
   ],
   "source": [
    "from qiskit import execute, Aer\n",
    "\n",
    "simulator = Aer.get_backend('qasm_simulator')\n",
    "job = execute(circuit, simulator, shots=1000)\n",
    "result = job.result()\n",
    "counts = result.get_counts(circuit)\n",
    "print(\"\\nTotal count for 00 and 11 are:\",counts)"
   ]
  },
  {
   "cell_type": "code",
   "execution_count": 161,
   "metadata": {},
   "outputs": [
    {
     "data": {
      "image/png": "[encoded data removed]",
      "text/plain": [
       "<Figure size 504x360 with 1 Axes>"
      ]
     },
     "execution_count": 161,
     "metadata": {},
     "output_type": "execute_result"
    }
   ],
   "source": [
    "plot_histogram(counts)"
   ]
  },
  {
   "cell_type": "code",
   "execution_count": 162,
   "metadata": {},
   "outputs": [
    {
     "name": "stdout",
     "output_type": "stream",
     "text": [
      "\n",
      "Total count for 00 and 11 are: {'00': 476, '11': 524}\n"
     ]
    },
    {
     "data": {
      "text/html": [
       "<pre style=\"word-wrap: normal;white-space: pre;background: #fff0;line-height: 1.1;font-family: &quot;Courier New&quot;,Courier,monospace\">             ┌───┐┌─┐   \n",
       "q_0: |0>─────┤ X ├┤M├───\n",
       "        ┌───┐└─┬─┘└╥┘┌─┐\n",
       "q_1: |0>┤ H ├──■───╫─┤M├\n",
       "        └───┘      ║ └╥┘\n",
       " c_0: 0 ═══════════╩══╬═\n",
       "                      ║ \n",
       " c_1: 0 ══════════════╩═\n",
       "                        </pre>"
      ],
      "text/plain": [
       "<qiskit.visualization.text.TextDrawing at 0x7faf4fb96080>"
      ]
     },
     "execution_count": 162,
     "metadata": {},
     "output_type": "execute_result"
    }
   ],
   "source": [
    "import numpy as np\n",
    "from qiskit import(\n",
    "  QuantumCircuit,\n",
    "  execute,\n",
    "  Aer)\n",
    "from qiskit.visualization import plot_histogram\n",
    "\n",
    "# Use Aer's qasm_simulator\n",
    "simulator = Aer.get_backend('qasm_simulator')\n",
    "\n",
    "# Create a Quantum Circuit acting on the q register\n",
    "circuit = QuantumCircuit(2, 2)\n",
    "\n",
    "# Add a H gate on qubit 0\n",
    "circuit.h(1)\n",
    "\n",
    "# Add a CX (CNOT) gate on control qubit 0 and target qubit 1\n",
    "circuit.cx(1, 0)\n",
    "\n",
    "# Map the quantum measurement to the classical bits\n",
    "circuit.measure([0,1], [0,1])\n",
    "\n",
    "# Execute the circuit on the qasm simulator\n",
    "job = execute(circuit, simulator, shots=1000)\n",
    "\n",
    "# Grab results from the job\n",
    "result = job.result()\n",
    "\n",
    "# Returns counts\n",
    "counts = result.get_counts(circuit)\n",
    "print(\"\\nTotal count for 00 and 11 are:\",counts)\n",
    "\n",
    "# Draw the circuit\n",
    "circuit.draw()"
   ]
  },
  {
   "cell_type": "code",
   "execution_count": 163,
   "metadata": {},
   "outputs": [
    {
     "data": {
      "image/png": "[encoded data removed]",
      "text/plain": [
       "<Figure size 504x360 with 1 Axes>"
      ]
     },
     "execution_count": 163,
     "metadata": {},
     "output_type": "execute_result"
    }
   ],
   "source": [
    "plot_histogram(counts)"
   ]
  },
  {
   "cell_type": "markdown",
   "metadata": {},
   "source": [
    "## Superposition"
   ]
  },
  {
   "cell_type": "markdown",
   "metadata": {},
   "source": [
    "Any two (or more) quantum states can be added together (**superposed**) and the result will be another valid quantum state\n",
    "And conversely, that every quantum state can be represented as a sum of two or more other distinct states.\n",
    "\n",
    "Mathematically, it refers to a property of solutions to the Schrödinger equation; since the Schrödinger equation is linear, any linear combination of solutions will also be a solution.\n",
    "\n",
    "$${\\displaystyle i\\hbar {\\frac {d}{dt}}\\vert \\Psi (t)\\rangle ={\\hat {H}}\\vert \\Psi (t)\\rangle }$$"
   ]
  },
  {
   "cell_type": "markdown",
   "metadata": {},
   "source": [
    "## Entanglement"
   ]
  },
  {
   "cell_type": "markdown",
   "metadata": {},
   "source": [
    "Quantum entanglement is a physical phenomenon that occurs when pairs or groups of particles are generated, interact, or share spatial proximity in ways such that the **quantum state of each particle cannot be described independently of the state of the others**, even when the particles are separated by a large distance."
   ]
  },
  {
   "cell_type": "markdown",
   "metadata": {},
   "source": [
    "For example, given two basis vectors \n",
    "$${\\displaystyle \\scriptstyle \\{|0\\rangle _{A},|1\\rangle _{A}\\}}$$ of HA and two basis vectors $${\\displaystyle \\scriptstyle \\{|0\\rangle _{B},|1\\rangle _{B}\\}}$$ of HB\n",
    "\n",
    "the following is an entangled state:\n",
    "\n",
    "$${\\displaystyle {\\tfrac {1}{\\sqrt {2}}}\\left(|0\\rangle _{A}\\otimes |1\\rangle _{B}-|1\\rangle _{A}\\otimes |0\\rangle _{B}\\right)}$$"
   ]
  },
  {
   "cell_type": "markdown",
   "metadata": {},
   "source": [
    "## Teleportation"
   ]
  },
  {
   "cell_type": "code",
   "execution_count": null,
   "metadata": {},
   "outputs": [],
   "source": []
  }
 ],
 "metadata": {
  "kernelspec": {
   "display_name": "Python 3",
   "language": "python",
   "name": "python3"
  },
  "language_info": {
   "codemirror_mode": {
    "name": "ipython",
    "version": 3
   },
   "file_extension": ".py",
   "mimetype": "text/x-python",
   "name": "python",
   "nbconvert_exporter": "python",
   "pygments_lexer": "ipython3",
   "version": "3.6.8"
  }
 },
 "nbformat": 4,
 "nbformat_minor": 2
}
